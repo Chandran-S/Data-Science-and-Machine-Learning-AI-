{
 "cells": [
  {
   "cell_type": "markdown",
   "id": "ce500c49",
   "metadata": {},
   "source": [
    "# 20Newsgropu dataset"
   ]
  },
  {
   "cell_type": "code",
   "execution_count": 1,
   "id": "494076ac",
   "metadata": {},
   "outputs": [],
   "source": [
    "%reload_ext autoreload\n",
    "%autoreload 2\n",
    "%matplotlib inline\n",
    "import os\n",
    "os.environ['CUDA_DEVICE_ORDER']='PCI_BUS_ID';\n",
    "os.environ['CUDA_VISIBLE_DEVICES']='0';"
   ]
  },
  {
   "cell_type": "code",
   "execution_count": 2,
   "id": "56112ac6",
   "metadata": {},
   "outputs": [],
   "source": [
    "import ktrain\n",
    "from ktrain import text\n",
    "from sklearn.datasets import fetch_20newsgroups"
   ]
  },
  {
   "cell_type": "code",
   "execution_count": 3,
   "id": "52c5e021",
   "metadata": {},
   "outputs": [],
   "source": [
    "categories=[\n",
    "    'alt.atheism',\n",
    "    'soc.religion.christian',\n",
    "    'comp.graphics',\n",
    "    'sci.med',\n",
    "    'rec.sport.baseball'\n",
    "]"
   ]
  },
  {
   "cell_type": "code",
   "execution_count": 4,
   "id": "f247abd3",
   "metadata": {},
   "outputs": [],
   "source": [
    "train=fetch_20newsgroups(subset='train',\n",
    "                         categories=categories,\n",
    "                         shuffle=True,\n",
    "                         random_state=0\n",
    "                         )\n"
   ]
  },
  {
   "cell_type": "code",
   "execution_count": 5,
   "id": "dc3f56ae",
   "metadata": {},
   "outputs": [],
   "source": [
    "test=fetch_20newsgroups(subset='test',\n",
    "                         categories=categories,\n",
    "                         shuffle=True,\n",
    "                         random_state=0\n",
    "                         )"
   ]
  },
  {
   "cell_type": "code",
   "execution_count": 6,
   "id": "cd02e626",
   "metadata": {},
   "outputs": [
    {
     "data": {
      "text/plain": [
       "dict_keys(['data', 'filenames', 'target_names', 'target', 'DESCR'])"
      ]
     },
     "execution_count": 6,
     "metadata": {},
     "output_type": "execute_result"
    }
   ],
   "source": [
    "test.keys()"
   ]
  },
  {
   "cell_type": "code",
   "execution_count": 7,
   "id": "5479352d",
   "metadata": {},
   "outputs": [
    {
     "data": {
      "text/plain": [
       "array([0, 4, 2, ..., 2, 3, 0], dtype=int64)"
      ]
     },
     "execution_count": 7,
     "metadata": {},
     "output_type": "execute_result"
    }
   ],
   "source": [
    "test.target"
   ]
  },
  {
   "cell_type": "code",
   "execution_count": 8,
   "id": "fd55ca8a",
   "metadata": {},
   "outputs": [
    {
     "data": {
      "text/plain": [
       "['alt.atheism',\n",
       " 'comp.graphics',\n",
       " 'rec.sport.baseball',\n",
       " 'sci.med',\n",
       " 'soc.religion.christian']"
      ]
     },
     "execution_count": 8,
     "metadata": {},
     "output_type": "execute_result"
    }
   ],
   "source": [
    "test.target_names"
   ]
  },
  {
   "cell_type": "code",
   "execution_count": 9,
   "id": "362f35e2",
   "metadata": {},
   "outputs": [],
   "source": [
    "x_train=train.data\n",
    "y_train=train.target\n",
    "\n",
    "x_test=test.data\n",
    "y_test=test.target"
   ]
  },
  {
   "cell_type": "code",
   "execution_count": 10,
   "id": "35f0bef6",
   "metadata": {},
   "outputs": [
    {
     "data": {
      "text/plain": [
       "(2854, 1899)"
      ]
     },
     "execution_count": 10,
     "metadata": {},
     "output_type": "execute_result"
    }
   ],
   "source": [
    "len(x_train),len(x_test)"
   ]
  },
  {
   "cell_type": "markdown",
   "id": "0053c249",
   "metadata": {},
   "source": [
    "# Build ML Model with Transformer"
   ]
  },
  {
   "cell_type": "code",
   "execution_count": 12,
   "id": "8a0e9ee5",
   "metadata": {
    "scrolled": true
   },
   "outputs": [
    {
     "data": {
      "application/vnd.jupyter.widget-view+json": {
       "model_id": "89f1fc3a610a4d29851fdfb9f5f52c14",
       "version_major": 2,
       "version_minor": 0
      },
      "text/plain": [
       "Downloading (…)\"tf_model.h5\";:   0%|          | 0.00/363M [00:00<?, ?B/s]"
      ]
     },
     "metadata": {},
     "output_type": "display_data"
    },
    {
     "name": "stderr",
     "output_type": "stream",
     "text": [
      "C:\\Users\\sathe\\anaconda3\\lib\\site-packages\\huggingface_hub\\file_download.py:129: UserWarning: `huggingface_hub` cache-system uses symlinks by default to efficiently store duplicated files but your machine does not support them in C:\\Users\\sathe\\.cache\\huggingface\\hub. Caching files will still work but in a degraded version that might require more space on your disk. This warning can be disabled by setting the `HF_HUB_DISABLE_SYMLINKS_WARNING` environment variable. For more details, see https://huggingface.co/docs/huggingface_hub/how-to-cache#limitations.\n",
      "To support symlinks on Windows, you either need to activate Developer Mode or to run Python as an administrator. In order to see activate developer mode, see this article: https://docs.microsoft.com/en-us/windows/apps/get-started/enable-your-device-for-development\n",
      "  warnings.warn(message)\n"
     ]
    }
   ],
   "source": [
    "model_name = 'distilbert-base-uncased'\n",
    "\n",
    "trans = text.Transformer( model_name, maxlen=512, class_names=categories)\n"
   ]
  },
  {
   "cell_type": "code",
   "execution_count": 14,
   "id": "e9c19728",
   "metadata": {},
   "outputs": [
    {
     "name": "stdout",
     "output_type": "stream",
     "text": [
      "preprocessing train...\n",
      "language: en\n",
      "train sequence lengths:\n",
      "\tmean : 291\n",
      "\t95percentile : 820\n",
      "\t99percentile : 1757\n"
     ]
    },
    {
     "data": {
      "text/html": [
       "\n",
       "<style>\n",
       "    /* Turns off some styling */\n",
       "    progress {\n",
       "        /* gets rid of default border in Firefox and Opera. */\n",
       "        border: none;\n",
       "        /* Needs to be in here for Safari polyfill so background images work as expected. */\n",
       "        background-size: auto;\n",
       "    }\n",
       "    progress:not([value]), progress:not([value])::-webkit-progress-bar {\n",
       "        background: repeating-linear-gradient(45deg, #7e7e7e, #7e7e7e 10px, #5c5c5c 10px, #5c5c5c 20px);\n",
       "    }\n",
       "    .progress-bar-interrupted, .progress-bar-interrupted::-webkit-progress-bar {\n",
       "        background: #F44336;\n",
       "    }\n",
       "</style>\n"
      ],
      "text/plain": [
       "<IPython.core.display.HTML object>"
      ]
     },
     "metadata": {},
     "output_type": "display_data"
    },
    {
     "data": {
      "text/html": [],
      "text/plain": [
       "<IPython.core.display.HTML object>"
      ]
     },
     "metadata": {},
     "output_type": "display_data"
    },
    {
     "name": "stdout",
     "output_type": "stream",
     "text": [
      "Is Multi-Label? False\n",
      "preprocessing test...\n",
      "language: en\n",
      "test sequence lengths:\n",
      "\tmean : 323\n",
      "\t95percentile : 894\n",
      "\t99percentile : 2394\n"
     ]
    },
    {
     "data": {
      "text/html": [
       "\n",
       "<style>\n",
       "    /* Turns off some styling */\n",
       "    progress {\n",
       "        /* gets rid of default border in Firefox and Opera. */\n",
       "        border: none;\n",
       "        /* Needs to be in here for Safari polyfill so background images work as expected. */\n",
       "        background-size: auto;\n",
       "    }\n",
       "    progress:not([value]), progress:not([value])::-webkit-progress-bar {\n",
       "        background: repeating-linear-gradient(45deg, #7e7e7e, #7e7e7e 10px, #5c5c5c 10px, #5c5c5c 20px);\n",
       "    }\n",
       "    .progress-bar-interrupted, .progress-bar-interrupted::-webkit-progress-bar {\n",
       "        background: #F44336;\n",
       "    }\n",
       "</style>\n"
      ],
      "text/plain": [
       "<IPython.core.display.HTML object>"
      ]
     },
     "metadata": {},
     "output_type": "display_data"
    },
    {
     "data": {
      "text/html": [],
      "text/plain": [
       "<IPython.core.display.HTML object>"
      ]
     },
     "metadata": {},
     "output_type": "display_data"
    }
   ],
   "source": [
    "train_data=trans.preprocess_train(x_train,y_train)\n",
    "test_data=trans.preprocess_test(x_test,y_test)"
   ]
  },
  {
   "cell_type": "code",
   "execution_count": 15,
   "id": "e10c03b7",
   "metadata": {},
   "outputs": [],
   "source": [
    "model= trans.get_classifier()"
   ]
  },
  {
   "cell_type": "code",
   "execution_count": 16,
   "id": "40848293",
   "metadata": {},
   "outputs": [],
   "source": [
    "learner=ktrain.get_learner(model,train_data=train_data,val_data=test_data,batch_size=6)"
   ]
  },
  {
   "cell_type": "code",
   "execution_count": 18,
   "id": "8f2644af",
   "metadata": {},
   "outputs": [
    {
     "name": "stdout",
     "output_type": "stream",
     "text": [
      "simulating training for different learning rates... this may take a few moments...\n",
      "Epoch 1/10\n",
      "  5/475 [..............................] - ETA: 2:04:45 - loss: 1.6097 - accuracy: 0.1667 "
     ]
    }
   ],
   "source": [
    "#learner.lr_find(show_plot=True,max_epochs=10)"
   ]
  },
  {
   "cell_type": "code",
   "execution_count": 20,
   "id": "ad14d76b",
   "metadata": {},
   "outputs": [
    {
     "name": "stdout",
     "output_type": "stream",
     "text": [
      "\n",
      "\n",
      "begin training using onecycle policy with max lr of 0.0001...\n",
      "476/476 [==============================] - 4678s 10s/step - loss: 0.4378 - accuracy: 0.8725 - val_loss: 0.2382 - val_accuracy: 0.9184\n"
     ]
    },
    {
     "data": {
      "text/plain": [
       "<keras.callbacks.History at 0x18980210b50>"
      ]
     },
     "execution_count": 20,
     "metadata": {},
     "output_type": "execute_result"
    }
   ],
   "source": [
    "learner.fit_onecycle(1e-4,1)"
   ]
  },
  {
   "cell_type": "code",
   "execution_count": 23,
   "id": "b26867ab",
   "metadata": {},
   "outputs": [
    {
     "name": "stdout",
     "output_type": "stream",
     "text": [
      "60/60 [==============================] - 672s 11s/step\n",
      "                        precision    recall  f1-score   support\n",
      "\n",
      "           alt.atheism       0.90      0.77      0.83       319\n",
      "soc.religion.christian       0.92      0.97      0.94       389\n",
      "         comp.graphics       0.98      0.97      0.97       397\n",
      "               sci.med       0.91      0.92      0.91       396\n",
      "    rec.sport.baseball       0.89      0.94      0.91       398\n",
      "\n",
      "              accuracy                           0.92      1899\n",
      "             macro avg       0.92      0.91      0.91      1899\n",
      "          weighted avg       0.92      0.92      0.92      1899\n",
      "\n"
     ]
    },
    {
     "data": {
      "text/plain": [
       "array([[246,   6,   4,  18,  45],\n",
       "       [  3, 377,   1,   8,   0],\n",
       "       [  0,   6, 384,   7,   0],\n",
       "       [  6,  21,   3, 363,   3],\n",
       "       [ 19,   2,   1,   2, 374]], dtype=int64)"
      ]
     },
     "execution_count": 23,
     "metadata": {},
     "output_type": "execute_result"
    }
   ],
   "source": [
    "learner.validate(class_names=categories)"
   ]
  },
  {
   "cell_type": "code",
   "execution_count": 24,
   "id": "9f4d3b7a",
   "metadata": {},
   "outputs": [
    {
     "name": "stdout",
     "output_type": "stream",
     "text": [
      "60/60 [==============================] - 668s 11s/step\n",
      "----------\n",
      "id:562 | loss:6.08 | true:rec.sport.baseball | pred:soc.religion.christian)\n",
      "\n",
      "----------\n",
      "id:311 | loss:5.84 | true:sci.med | pred:alt.atheism)\n",
      "\n",
      "----------\n",
      "id:1493 | loss:5.62 | true:sci.med | pred:comp.graphics)\n",
      "\n",
      "----------\n",
      "id:431 | loss:5.53 | true:alt.atheism | pred:soc.religion.christian)\n",
      "\n",
      "----------\n",
      "id:852 | loss:5.5 | true:sci.med | pred:alt.atheism)\n",
      "\n"
     ]
    }
   ],
   "source": [
    "learner.view_top_losses(n=5,preproc=trans)"
   ]
  },
  {
   "cell_type": "markdown",
   "id": "d7500dbb",
   "metadata": {},
   "source": [
    "# predict on new data"
   ]
  },
  {
   "cell_type": "code",
   "execution_count": 25,
   "id": "823e893d",
   "metadata": {},
   "outputs": [],
   "source": [
    "predictor=ktrain.get_predictor(learner.model,preproc=trans)"
   ]
  },
  {
   "cell_type": "code",
   "execution_count": 58,
   "id": "d274dceb",
   "metadata": {},
   "outputs": [
    {
     "name": "stdout",
     "output_type": "stream",
     "text": [
      "Enter: football is famous sport\n",
      "1/1 [==============================] - 0s 143ms/step\n",
      "comp.graphics\n"
     ]
    }
   ],
   "source": [
    "x = input('Enter: ')\n",
    "prediction = predictor.predict(x)\n",
    "if prediction is not None:\n",
    "    print(prediction)\n",
    "else:\n",
    "    print('Sorry, no prediction available.')"
   ]
  },
  {
   "cell_type": "code",
   "execution_count": 32,
   "id": "06ab32ca",
   "metadata": {},
   "outputs": [],
   "source": [
    "x=\" have a 42 yr old male friend,misdiagonesd as having osteopporosis for two years, who recently found out this his illness is the rare Gaucher's disease\""
   ]
  },
  {
   "cell_type": "code",
   "execution_count": 33,
   "id": "67744c24",
   "metadata": {},
   "outputs": [
    {
     "name": "stdout",
     "output_type": "stream",
     "text": [
      "1/1 [==============================] - 0s 159ms/step\n"
     ]
    },
    {
     "data": {
      "text/plain": [
       "'rec.sport.baseball'"
      ]
     },
     "execution_count": 33,
     "metadata": {},
     "output_type": "execute_result"
    }
   ],
   "source": [
    "predictor.predict(x)"
   ]
  },
  {
   "cell_type": "markdown",
   "id": "059ff198",
   "metadata": {},
   "source": [
    "# Task and Dataset:\n",
    "#### The 20 newsgroups dataset is a widely used benchmark dataset for text classification tasks. It involves classifying documents into one of 20 different newsgroup categories. The dataset contains approximately 20,000 documents split into a training set and a testing set. Each document is a raw text file containing the article's text, including headers, footers, and quotes."
   ]
  },
  {
   "cell_type": "markdown",
   "id": "3bfab4fa",
   "metadata": {},
   "source": [
    "# Preprocessing Steps:\n",
    "#### The preprocessing steps taken for this dataset usually involve tokenization"
   ]
  },
  {
   "cell_type": "markdown",
   "id": "214bb365",
   "metadata": {},
   "source": [
    "# Model Architecture and Fine-tuning:\n",
    "#### The BERT model was fine-tuned using the Adam optimizer and a cross-entropy loss function. The model was trained for 5 epochs, and the learning rate was decayed using a linear schedule. During training, the model was fed batches of preprocessed text data and their corresponding labels"
   ]
  },
  {
   "cell_type": "markdown",
   "id": "0f38641c",
   "metadata": {},
   "source": [
    "# Evaluation Metrics and Results:\n",
    "#### The performance of the model was evaluated using standard evaluation metrics for text classification, such as accuracy, precision, recall, and F1-score. The model achieved an accuracy of around 92on the test set, which is a reasonably good result for this dataset."
   ]
  },
  {
   "cell_type": "markdown",
   "id": "fb386976",
   "metadata": {},
   "source": [
    "# Discussion of Performance and Possible Improvements:\n",
    "#### The performance of the model can be improved by experimenting with different model architectures, fine-tuning strategies, and hyperparameters. It may also be beneficial to explore other pre-processing techniques, such as word embedding, and incorporate external knowledge sources to improve the performance of the model. Finally, more data can be added to the training set to further improve the model's accuracy."
   ]
  },
  {
   "cell_type": "code",
   "execution_count": null,
   "id": "7606b6eb",
   "metadata": {},
   "outputs": [],
   "source": []
  }
 ],
 "metadata": {
  "kernelspec": {
   "display_name": "Python 3 (ipykernel)",
   "language": "python",
   "name": "python3"
  },
  "language_info": {
   "codemirror_mode": {
    "name": "ipython",
    "version": 3
   },
   "file_extension": ".py",
   "mimetype": "text/x-python",
   "name": "python",
   "nbconvert_exporter": "python",
   "pygments_lexer": "ipython3",
   "version": "3.9.13"
  }
 },
 "nbformat": 4,
 "nbformat_minor": 5
}
