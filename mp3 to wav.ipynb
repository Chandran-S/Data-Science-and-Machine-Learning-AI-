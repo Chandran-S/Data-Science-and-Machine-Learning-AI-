{
 "cells": [
  {
   "cell_type": "code",
   "execution_count": 1,
   "id": "ec92fa6f",
   "metadata": {},
   "outputs": [],
   "source": [
    "import warnings\n",
    "warnings.filterwarnings('ignore')"
   ]
  },
  {
   "cell_type": "code",
   "execution_count": 2,
   "id": "86f5697c",
   "metadata": {},
   "outputs": [],
   "source": [
    "import os\n",
    "import glob\n",
    "from pydub import AudioSegment\n",
    "import sys\n"
   ]
  },
  {
   "cell_type": "code",
   "execution_count": 3,
   "id": "a30e8c25",
   "metadata": {},
   "outputs": [
    {
     "name": "stdout",
     "output_type": "stream",
     "text": [
      "Conversion completed!\n"
     ]
    }
   ],
   "source": [
    "def mp3_to_wav(input_folder, output_folder):\n",
    "    # create output folder if it doesn't exist\n",
    "    if not os.path.exists(output_folder):\n",
    "        os.makedirs(output_folder)\n",
    "    # get list of all mp3 files in input folder\n",
    "    mp3_files = glob.glob(os.path.join(input_folder, '*.mp3'))\n",
    "    # loop through each mp3 file and convert to wav\n",
    "    for mp3_file in mp3_files:\n",
    "        # load mp3 file with pydub\n",
    "        audio = AudioSegment.from_mp3(mp3_file)\n",
    "        # create output file path by replacing extension\n",
    "        wav_file = os.path.join(output_folder, os.path.basename(mp3_file).replace('.mp3', '.wav'))\n",
    "        # export audio in wav format\n",
    "        audio.export(wav_file, format='wav')\n",
    "    print('Conversion completed!')\n",
    "\n",
    "if __name__ == '__main__':\n",
    "    # get command line arguments\n",
    "    input_folder = 'C:/Users/schan/Downloads/mp3_to_wav_converter.py/file_example_MP3_1MG.mp3'\n",
    "    output_folder = 'C:/Users/schan/Downloads/mp3_to_wav_converter.py'\n",
    "    mp3_to_wav(input_folder, output_folder)\n"
   ]
  },
  {
   "cell_type": "code",
   "execution_count": null,
   "id": "2d8dc139",
   "metadata": {},
   "outputs": [],
   "source": []
  }
 ],
 "metadata": {
  "kernelspec": {
   "display_name": "Python 3 (ipykernel)",
   "language": "python",
   "name": "python3"
  },
  "language_info": {
   "codemirror_mode": {
    "name": "ipython",
    "version": 3
   },
   "file_extension": ".py",
   "mimetype": "text/x-python",
   "name": "python",
   "nbconvert_exporter": "python",
   "pygments_lexer": "ipython3",
   "version": "3.9.13"
  }
 },
 "nbformat": 4,
 "nbformat_minor": 5
}
