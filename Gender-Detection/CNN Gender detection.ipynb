{
 "cells": [
  {
   "cell_type": "code",
   "execution_count": 36,
   "id": "b16c974b",
   "metadata": {},
   "outputs": [],
   "source": [
    "from tensorflow.keras.preprocessing.image import ImageDataGenerator, img_to_array\n",
    "from tensorflow.keras.optimizers.legacy import Adam\n",
    "from tensorflow.keras.utils import to_categorical, plot_model\n",
    "from tensorflow.keras.models import Sequential\n",
    "from tensorflow.keras.layers import BatchNormalization, Conv2D, Activation, Flatten, Dropout, Dense, MaxPooling2D\n",
    "from tensorflow.keras import backend as k\n",
    "from sklearn.model_selection import train_test_split\n",
    "import matplotlib.pyplot as plt\n",
    "import seaborn as sns\n",
    "import numpy as np\n",
    "import cv2\n",
    "import os\n",
    "import glob\n",
    "import random\n",
    "from tensorflow.keras import backend as K"
   ]
  },
  {
   "cell_type": "code",
   "execution_count": 24,
   "id": "6ab9c6e2",
   "metadata": {},
   "outputs": [],
   "source": [
    "# initial parameters\n",
    "epochs = 100\n",
    "lr = 1e-3\n",
    "batch_size = 64\n",
    "img_dims = (96,96,3)"
   ]
  },
  {
   "cell_type": "code",
   "execution_count": 25,
   "id": "a0b65fba",
   "metadata": {},
   "outputs": [],
   "source": [
    "data =[]\n",
    "labels =[]"
   ]
  },
  {
   "cell_type": "code",
   "execution_count": 26,
   "id": "2409a67e",
   "metadata": {},
   "outputs": [],
   "source": [
    "# load image file from the dataset\n",
    "image_files = [f for f in glob.glob(r'C:\\Users\\schan\\Downloads\\CNN Gender Detect\\gender_dataset_face' + \"/**/*\")]\n",
    "#recursive= True if not os.path.isdir(f)\n",
    "random.shuffle(image_files)"
   ]
  },
  {
   "cell_type": "code",
   "execution_count": 27,
   "id": "a8e6784d",
   "metadata": {},
   "outputs": [],
   "source": [
    "# converting images to arrays and labelling the categories\n",
    "for img in image_files:\n",
    "    image = cv2.imread(img)\n",
    "    image = cv2.resize (image, (img_dims[0],img_dims[1]))\n",
    "    image = img_to_array(image)\n",
    "    data.append(image)\n",
    "    label = img.split(os.path.sep)[-2]\n",
    "    \n",
    "    if label == 'women':\n",
    "        label = 1\n",
    "    else:\n",
    "        label = 0\n",
    "    labels.append([label])"
   ]
  },
  {
   "cell_type": "code",
   "execution_count": 28,
   "id": "f4c65946",
   "metadata": {},
   "outputs": [],
   "source": [
    "# pre_processing\n",
    "data = np.array(data, dtype = 'float') / 255.0\n",
    "label = np.array(labels)"
   ]
  },
  {
   "cell_type": "code",
   "execution_count": 29,
   "id": "bdb88453",
   "metadata": {},
   "outputs": [],
   "source": [
    "# split dataset for training and validation\n",
    "x_train, x_test, y_train, y_test = train_test_split(data, label, test_size=0.2, random_state=42)\n",
    "\n",
    "y_train = to_categorical(y_train, num_classes=2)\n",
    "y_test = to_categorical(y_test, num_classes=2)"
   ]
  },
  {
   "cell_type": "code",
   "execution_count": 30,
   "id": "40f31ee1",
   "metadata": {},
   "outputs": [],
   "source": [
    "# augmentating dataset\n",
    "aug= ImageDataGenerator(rotation_range=25, width_shift_range=0.1,\n",
    "                       height_shift_range=0.1, shear_range=0.3, zoom_range= 0.2,\n",
    "                       horizontal_flip=True,fill_mode=\"nearest\")"
   ]
  },
  {
   "cell_type": "code",
   "execution_count": 37,
   "id": "77561fed",
   "metadata": {
    "scrolled": true
   },
   "outputs": [],
   "source": [
    "\n",
    "# define model\n",
    "def build(width, height, depth, classes):\n",
    "    model = Sequential()\n",
    "    inputShape = (height, width, depth)\n",
    "    chanDim = -1\n",
    "\n",
    "    if K.image_data_format() == \"channels_first\": #Returns a string, either 'channels_first' or 'channels_last'\n",
    "        inputShape = (depth, height, width)\n",
    "        chanDim = 1\n",
    "    \n",
    "        \n",
    "# The axis that should be normalized, after a Conv2D layer with data_format=\"channels_first\", \n",
    "# set axis=1 in BatchNormalization.\n",
    "\n",
    "    model.add(Conv2D(32, (3,3), padding=\"same\", input_shape=inputShape))\n",
    "    model.add(Activation(\"relu\"))\n",
    "    model.add(BatchNormalization(axis=chanDim))\n",
    "    model.add(MaxPooling2D(pool_size=(3,3)))\n",
    "    model.add(Dropout(0.25))\n",
    "\n",
    "    model.add(Conv2D(64, (3,3), padding=\"same\"))\n",
    "    model.add(Activation(\"relu\"))\n",
    "    model.add(BatchNormalization(axis=chanDim))\n",
    "\n",
    "    model.add(Conv2D(64, (3,3), padding=\"same\"))\n",
    "    model.add(Activation(\"relu\"))\n",
    "    model.add(BatchNormalization(axis=chanDim))\n",
    "    model.add(MaxPooling2D(pool_size=(2,2)))\n",
    "    model.add(Dropout(0.25))\n",
    "\n",
    "    model.add(Conv2D(128, (3,3), padding=\"same\"))\n",
    "    model.add(Activation(\"relu\"))\n",
    "    model.add(BatchNormalization(axis=chanDim))\n",
    "\n",
    "    model.add(Conv2D(128, (3,3), padding=\"same\"))\n",
    "    model.add(Activation(\"relu\"))\n",
    "    model.add(BatchNormalization(axis=chanDim))\n",
    "    model.add(MaxPooling2D(pool_size=(2,2)))\n",
    "    model.add(Dropout(0.25))\n",
    "\n",
    "    model.add(Flatten())\n",
    "    model.add(Dense(1024))\n",
    "    model.add(Activation(\"relu\"))\n",
    "    model.add(BatchNormalization())\n",
    "    model.add(Dropout(0.5))\n",
    "\n",
    "    model.add(Dense(classes))\n",
    "    model.add(Activation(\"sigmoid\"))\n",
    "    return model\n",
    "\n"
   ]
  },
  {
   "cell_type": "code",
   "execution_count": 38,
   "id": "d398fe32",
   "metadata": {},
   "outputs": [],
   "source": [
    "# build model\n",
    "model = build(width=img_dims[0], height=img_dims[1], depth=img_dims[2],\n",
    "                            classes=2)"
   ]
  },
  {
   "cell_type": "code",
   "execution_count": 40,
   "id": "c3b40fd6",
   "metadata": {},
   "outputs": [],
   "source": [
    "# compile the model\n",
    "opt =Adam (lr=lr,decay=lr/epochs)\n",
    "model.compile(loss = \"binary_crossentropy\", optimizer = opt, metrics=['accuracy'])"
   ]
  },
  {
   "cell_type": "code",
   "execution_count": 41,
   "id": "212eafad",
   "metadata": {},
   "outputs": [
    {
     "name": "stderr",
     "output_type": "stream",
     "text": [
      "C:\\Users\\schan\\AppData\\Local\\Temp\\ipykernel_15556\\388144527.py:1: UserWarning: `Model.fit_generator` is deprecated and will be removed in a future version. Please use `Model.fit`, which supports generators.\n",
      "  gen = model.fit_generator(aug.flow(x_train, y_train, batch_size = batch_size),validation_data = (x_test, y_test),\n"
     ]
    },
    {
     "name": "stdout",
     "output_type": "stream",
     "text": [
      "Epoch 1/100\n",
      "28/28 [==============================] - 38s 1s/step - loss: 0.8223 - accuracy: 0.6429 - val_loss: 0.0220 - val_accuracy: 1.0000\n",
      "Epoch 2/100\n",
      "28/28 [==============================] - 32s 1s/step - loss: 0.4268 - accuracy: 0.8883 - val_loss: 0.0095 - val_accuracy: 1.0000\n",
      "Epoch 3/100\n",
      "28/28 [==============================] - 33s 1s/step - loss: 0.2021 - accuracy: 0.9820 - val_loss: 0.0031 - val_accuracy: 1.0000\n",
      "Epoch 4/100\n",
      "28/28 [==============================] - 32s 1s/step - loss: 0.0864 - accuracy: 0.9966 - val_loss: 6.1866e-08 - val_accuracy: 1.0000\n",
      "Epoch 5/100\n",
      "28/28 [==============================] - 32s 1s/step - loss: 0.0461 - accuracy: 0.9994 - val_loss: 1.9048e-04 - val_accuracy: 1.0000\n",
      "Epoch 6/100\n",
      "28/28 [==============================] - 33s 1s/step - loss: 0.0275 - accuracy: 0.9994 - val_loss: 1.6457e-04 - val_accuracy: 1.0000\n",
      "Epoch 7/100\n",
      "28/28 [==============================] - 32s 1s/step - loss: 0.0156 - accuracy: 0.9994 - val_loss: 6.2990e-05 - val_accuracy: 1.0000\n",
      "Epoch 8/100\n",
      "28/28 [==============================] - 33s 1s/step - loss: 0.0108 - accuracy: 1.0000 - val_loss: 7.5966e-04 - val_accuracy: 1.0000\n",
      "Epoch 9/100\n",
      "28/28 [==============================] - 32s 1s/step - loss: 0.0089 - accuracy: 1.0000 - val_loss: 3.2011e-04 - val_accuracy: 1.0000\n",
      "Epoch 10/100\n",
      "28/28 [==============================] - 538s 20s/step - loss: 0.0066 - accuracy: 1.0000 - val_loss: 1.3772e-04 - val_accuracy: 1.0000\n",
      "Epoch 11/100\n",
      "28/28 [==============================] - 32s 1s/step - loss: 0.0051 - accuracy: 1.0000 - val_loss: 7.3460e-05 - val_accuracy: 1.0000\n",
      "Epoch 12/100\n",
      "28/28 [==============================] - 32s 1s/step - loss: 0.0041 - accuracy: 1.0000 - val_loss: 0.0012 - val_accuracy: 1.0000\n",
      "Epoch 13/100\n",
      "28/28 [==============================] - 33s 1s/step - loss: 0.0039 - accuracy: 1.0000 - val_loss: 0.0029 - val_accuracy: 1.0000\n",
      "Epoch 14/100\n",
      "28/28 [==============================] - 32s 1s/step - loss: 0.0033 - accuracy: 1.0000 - val_loss: 0.0041 - val_accuracy: 1.0000\n",
      "Epoch 15/100\n",
      "28/28 [==============================] - 32s 1s/step - loss: 0.0025 - accuracy: 1.0000 - val_loss: 0.0140 - val_accuracy: 1.0000\n",
      "Epoch 16/100\n",
      "28/28 [==============================] - 32s 1s/step - loss: 0.0027 - accuracy: 1.0000 - val_loss: 0.0321 - val_accuracy: 0.9957\n",
      "Epoch 17/100\n",
      "28/28 [==============================] - 33s 1s/step - loss: 0.0022 - accuracy: 1.0000 - val_loss: 0.0091 - val_accuracy: 1.0000\n",
      "Epoch 18/100\n",
      "28/28 [==============================] - 32s 1s/step - loss: 0.0019 - accuracy: 1.0000 - val_loss: 0.0295 - val_accuracy: 0.9935\n",
      "Epoch 19/100\n",
      "28/28 [==============================] - 32s 1s/step - loss: 0.0018 - accuracy: 1.0000 - val_loss: 0.0302 - val_accuracy: 0.9935\n",
      "Epoch 20/100\n",
      "28/28 [==============================] - 33s 1s/step - loss: 0.0014 - accuracy: 1.0000 - val_loss: 0.0022 - val_accuracy: 1.0000\n",
      "Epoch 21/100\n",
      "28/28 [==============================] - 837s 31s/step - loss: 0.0015 - accuracy: 1.0000 - val_loss: 6.8932e-04 - val_accuracy: 1.0000\n",
      "Epoch 22/100\n",
      "28/28 [==============================] - 33s 1s/step - loss: 0.0019 - accuracy: 1.0000 - val_loss: 0.0012 - val_accuracy: 1.0000\n",
      "Epoch 23/100\n",
      "28/28 [==============================] - 32s 1s/step - loss: 0.0013 - accuracy: 1.0000 - val_loss: 0.0011 - val_accuracy: 1.0000\n",
      "Epoch 24/100\n",
      "28/28 [==============================] - 32s 1s/step - loss: 0.0010 - accuracy: 1.0000 - val_loss: 8.4218e-04 - val_accuracy: 1.0000\n",
      "Epoch 25/100\n",
      "28/28 [==============================] - 32s 1s/step - loss: 8.9608e-04 - accuracy: 1.0000 - val_loss: 6.8660e-04 - val_accuracy: 1.0000\n",
      "Epoch 26/100\n",
      "28/28 [==============================] - 32s 1s/step - loss: 7.7936e-04 - accuracy: 1.0000 - val_loss: 6.2962e-04 - val_accuracy: 1.0000\n",
      "Epoch 27/100\n",
      "28/28 [==============================] - 304s 1s/step - loss: 0.0010 - accuracy: 1.0000 - val_loss: 6.6314e-04 - val_accuracy: 1.0000\n",
      "Epoch 28/100\n",
      "28/28 [==============================] - 32s 1s/step - loss: 8.4070e-04 - accuracy: 1.0000 - val_loss: 5.4825e-04 - val_accuracy: 1.0000\n",
      "Epoch 29/100\n",
      "28/28 [==============================] - 33s 1s/step - loss: 7.4358e-04 - accuracy: 1.0000 - val_loss: 4.9865e-04 - val_accuracy: 1.0000\n",
      "Epoch 30/100\n",
      "28/28 [==============================] - 32s 1s/step - loss: 6.7565e-04 - accuracy: 1.0000 - val_loss: 5.0079e-04 - val_accuracy: 1.0000\n",
      "Epoch 31/100\n",
      "28/28 [==============================] - 32s 1s/step - loss: 5.6753e-04 - accuracy: 1.0000 - val_loss: 4.4372e-04 - val_accuracy: 1.0000\n",
      "Epoch 32/100\n",
      "28/28 [==============================] - 33s 1s/step - loss: 4.9936e-04 - accuracy: 1.0000 - val_loss: 3.8656e-04 - val_accuracy: 1.0000\n",
      "Epoch 33/100\n",
      "28/28 [==============================] - 32s 1s/step - loss: 5.1662e-04 - accuracy: 1.0000 - val_loss: 3.2538e-04 - val_accuracy: 1.0000\n",
      "Epoch 34/100\n",
      "28/28 [==============================] - 33s 1s/step - loss: 4.5599e-04 - accuracy: 1.0000 - val_loss: 3.4672e-04 - val_accuracy: 1.0000\n",
      "Epoch 35/100\n",
      "28/28 [==============================] - 32s 1s/step - loss: 4.3480e-04 - accuracy: 1.0000 - val_loss: 3.0932e-04 - val_accuracy: 1.0000\n",
      "Epoch 36/100\n",
      "28/28 [==============================] - 32s 1s/step - loss: 4.7076e-04 - accuracy: 1.0000 - val_loss: 3.4769e-04 - val_accuracy: 1.0000\n",
      "Epoch 37/100\n",
      "28/28 [==============================] - 33s 1s/step - loss: 5.7153e-04 - accuracy: 1.0000 - val_loss: 3.8816e-04 - val_accuracy: 1.0000\n",
      "Epoch 38/100\n",
      "28/28 [==============================] - 32s 1s/step - loss: 4.2048e-04 - accuracy: 1.0000 - val_loss: 3.6476e-04 - val_accuracy: 1.0000\n",
      "Epoch 39/100\n",
      "28/28 [==============================] - 33s 1s/step - loss: 3.9675e-04 - accuracy: 1.0000 - val_loss: 3.9846e-04 - val_accuracy: 1.0000\n",
      "Epoch 40/100\n",
      "28/28 [==============================] - 32s 1s/step - loss: 3.4551e-04 - accuracy: 1.0000 - val_loss: 6.6418e-04 - val_accuracy: 1.0000\n",
      "Epoch 41/100\n",
      "28/28 [==============================] - 33s 1s/step - loss: 3.3817e-04 - accuracy: 1.0000 - val_loss: 7.9237e-04 - val_accuracy: 1.0000\n",
      "Epoch 42/100\n",
      "28/28 [==============================] - 32s 1s/step - loss: 3.1068e-04 - accuracy: 1.0000 - val_loss: 6.0739e-04 - val_accuracy: 1.0000\n",
      "Epoch 43/100\n",
      "28/28 [==============================] - 32s 1s/step - loss: 3.7626e-04 - accuracy: 1.0000 - val_loss: 9.0453e-04 - val_accuracy: 1.0000\n",
      "Epoch 44/100\n",
      "28/28 [==============================] - 33s 1s/step - loss: 2.8994e-04 - accuracy: 1.0000 - val_loss: 9.8918e-04 - val_accuracy: 1.0000\n",
      "Epoch 45/100\n",
      "28/28 [==============================] - 32s 1s/step - loss: 2.7132e-04 - accuracy: 1.0000 - val_loss: 7.2586e-04 - val_accuracy: 1.0000\n",
      "Epoch 46/100\n",
      "28/28 [==============================] - 33s 1s/step - loss: 2.5019e-04 - accuracy: 1.0000 - val_loss: 6.1263e-04 - val_accuracy: 1.0000\n",
      "Epoch 47/100\n",
      "28/28 [==============================] - 32s 1s/step - loss: 2.6328e-04 - accuracy: 1.0000 - val_loss: 6.8588e-04 - val_accuracy: 1.0000\n",
      "Epoch 48/100\n",
      "28/28 [==============================] - 33s 1s/step - loss: 2.5053e-04 - accuracy: 1.0000 - val_loss: 6.3434e-04 - val_accuracy: 1.0000\n",
      "Epoch 49/100\n",
      "28/28 [==============================] - 33s 1s/step - loss: 2.0081e-04 - accuracy: 1.0000 - val_loss: 3.7756e-04 - val_accuracy: 1.0000\n",
      "Epoch 50/100\n",
      "28/28 [==============================] - 32s 1s/step - loss: 0.0017 - accuracy: 0.9994 - val_loss: 0.0015 - val_accuracy: 1.0000\n",
      "Epoch 51/100\n",
      "28/28 [==============================] - 33s 1s/step - loss: 5.0880e-04 - accuracy: 1.0000 - val_loss: 0.0017 - val_accuracy: 1.0000\n",
      "Epoch 52/100\n",
      "28/28 [==============================] - 32s 1s/step - loss: 3.8643e-04 - accuracy: 1.0000 - val_loss: 8.0012e-04 - val_accuracy: 1.0000\n",
      "Epoch 53/100\n",
      "28/28 [==============================] - 33s 1s/step - loss: 2.7272e-04 - accuracy: 1.0000 - val_loss: 9.1445e-04 - val_accuracy: 1.0000\n",
      "Epoch 54/100\n",
      "28/28 [==============================] - 33s 1s/step - loss: 2.6000e-04 - accuracy: 1.0000 - val_loss: 0.0019 - val_accuracy: 1.0000\n",
      "Epoch 55/100\n",
      "28/28 [==============================] - 32s 1s/step - loss: 2.1453e-04 - accuracy: 1.0000 - val_loss: 0.0018 - val_accuracy: 1.0000\n",
      "Epoch 56/100\n",
      "28/28 [==============================] - 33s 1s/step - loss: 1.8784e-04 - accuracy: 1.0000 - val_loss: 0.0020 - val_accuracy: 0.9978\n"
     ]
    },
    {
     "name": "stdout",
     "output_type": "stream",
     "text": [
      "Epoch 57/100\n",
      "28/28 [==============================] - 32s 1s/step - loss: 1.8003e-04 - accuracy: 1.0000 - val_loss: 0.0018 - val_accuracy: 1.0000\n",
      "Epoch 58/100\n",
      "28/28 [==============================] - 33s 1s/step - loss: 1.6291e-04 - accuracy: 1.0000 - val_loss: 0.0016 - val_accuracy: 1.0000\n",
      "Epoch 59/100\n",
      "28/28 [==============================] - 32s 1s/step - loss: 1.5869e-04 - accuracy: 1.0000 - val_loss: 0.0013 - val_accuracy: 1.0000\n",
      "Epoch 60/100\n",
      "28/28 [==============================] - 32s 1s/step - loss: 1.4878e-04 - accuracy: 1.0000 - val_loss: 5.4646e-04 - val_accuracy: 1.0000\n",
      "Epoch 61/100\n",
      "28/28 [==============================] - 33s 1s/step - loss: 1.2886e-04 - accuracy: 1.0000 - val_loss: 4.5105e-04 - val_accuracy: 1.0000\n",
      "Epoch 62/100\n",
      "28/28 [==============================] - 32s 1s/step - loss: 1.2391e-04 - accuracy: 1.0000 - val_loss: 5.1499e-04 - val_accuracy: 1.0000\n",
      "Epoch 63/100\n",
      "28/28 [==============================] - 33s 1s/step - loss: 1.1461e-04 - accuracy: 1.0000 - val_loss: 4.9838e-04 - val_accuracy: 1.0000\n",
      "Epoch 64/100\n",
      "28/28 [==============================] - 32s 1s/step - loss: 1.2400e-04 - accuracy: 1.0000 - val_loss: 3.7426e-04 - val_accuracy: 1.0000\n",
      "Epoch 65/100\n",
      "28/28 [==============================] - 33s 1s/step - loss: 1.1924e-04 - accuracy: 1.0000 - val_loss: 3.8861e-04 - val_accuracy: 1.0000\n",
      "Epoch 66/100\n",
      "28/28 [==============================] - 33s 1s/step - loss: 1.1319e-04 - accuracy: 1.0000 - val_loss: 5.6003e-04 - val_accuracy: 1.0000\n",
      "Epoch 67/100\n",
      "28/28 [==============================] - 32s 1s/step - loss: 9.6317e-05 - accuracy: 1.0000 - val_loss: 6.1918e-04 - val_accuracy: 1.0000\n",
      "Epoch 68/100\n",
      "28/28 [==============================] - 33s 1s/step - loss: 1.0273e-04 - accuracy: 1.0000 - val_loss: 5.2444e-04 - val_accuracy: 1.0000\n",
      "Epoch 69/100\n",
      "28/28 [==============================] - 32s 1s/step - loss: 1.0280e-04 - accuracy: 1.0000 - val_loss: 4.0835e-04 - val_accuracy: 1.0000\n",
      "Epoch 70/100\n",
      "28/28 [==============================] - 33s 1s/step - loss: 9.3995e-05 - accuracy: 1.0000 - val_loss: 5.9633e-04 - val_accuracy: 1.0000\n",
      "Epoch 71/100\n",
      "28/28 [==============================] - 32s 1s/step - loss: 9.3395e-05 - accuracy: 1.0000 - val_loss: 6.0122e-04 - val_accuracy: 1.0000\n",
      "Epoch 72/100\n",
      "28/28 [==============================] - 33s 1s/step - loss: 8.4858e-05 - accuracy: 1.0000 - val_loss: 6.6087e-04 - val_accuracy: 1.0000\n",
      "Epoch 73/100\n",
      "28/28 [==============================] - 34s 1s/step - loss: 8.4874e-05 - accuracy: 1.0000 - val_loss: 7.3000e-04 - val_accuracy: 1.0000\n",
      "Epoch 74/100\n",
      "28/28 [==============================] - 32s 1s/step - loss: 8.6167e-05 - accuracy: 1.0000 - val_loss: 7.0924e-04 - val_accuracy: 1.0000\n",
      "Epoch 75/100\n",
      "28/28 [==============================] - 33s 1s/step - loss: 8.3743e-05 - accuracy: 1.0000 - val_loss: 6.5907e-04 - val_accuracy: 1.0000\n",
      "Epoch 76/100\n",
      "28/28 [==============================] - 32s 1s/step - loss: 7.7058e-05 - accuracy: 1.0000 - val_loss: 6.8922e-04 - val_accuracy: 1.0000\n",
      "Epoch 77/100\n",
      "28/28 [==============================] - 33s 1s/step - loss: 7.3664e-05 - accuracy: 1.0000 - val_loss: 6.4043e-04 - val_accuracy: 1.0000\n",
      "Epoch 78/100\n",
      "28/28 [==============================] - 32s 1s/step - loss: 7.2179e-05 - accuracy: 1.0000 - val_loss: 5.8429e-04 - val_accuracy: 1.0000\n",
      "Epoch 79/100\n",
      "28/28 [==============================] - 32s 1s/step - loss: 6.5411e-05 - accuracy: 1.0000 - val_loss: 5.5202e-04 - val_accuracy: 1.0000\n",
      "Epoch 80/100\n",
      "28/28 [==============================] - 33s 1s/step - loss: 7.2192e-05 - accuracy: 1.0000 - val_loss: 5.8307e-04 - val_accuracy: 1.0000\n",
      "Epoch 81/100\n",
      "28/28 [==============================] - 32s 1s/step - loss: 6.8331e-05 - accuracy: 1.0000 - val_loss: 8.0051e-04 - val_accuracy: 1.0000\n",
      "Epoch 82/100\n",
      "28/28 [==============================] - 33s 1s/step - loss: 6.8754e-05 - accuracy: 1.0000 - val_loss: 6.8025e-04 - val_accuracy: 1.0000\n",
      "Epoch 83/100\n",
      "28/28 [==============================] - 32s 1s/step - loss: 6.2100e-05 - accuracy: 1.0000 - val_loss: 6.1240e-04 - val_accuracy: 1.0000\n",
      "Epoch 84/100\n",
      "28/28 [==============================] - 33s 1s/step - loss: 6.5132e-05 - accuracy: 1.0000 - val_loss: 5.5152e-04 - val_accuracy: 1.0000\n",
      "Epoch 85/100\n",
      "28/28 [==============================] - 33s 1s/step - loss: 6.5790e-05 - accuracy: 1.0000 - val_loss: 6.2738e-04 - val_accuracy: 1.0000\n",
      "Epoch 86/100\n",
      "28/28 [==============================] - 32s 1s/step - loss: 5.7807e-05 - accuracy: 1.0000 - val_loss: 6.8004e-04 - val_accuracy: 1.0000\n",
      "Epoch 87/100\n",
      "28/28 [==============================] - 33s 1s/step - loss: 6.0371e-05 - accuracy: 1.0000 - val_loss: 3.8252e-04 - val_accuracy: 1.0000\n",
      "Epoch 88/100\n",
      "28/28 [==============================] - 32s 1s/step - loss: 5.6037e-05 - accuracy: 1.0000 - val_loss: 3.8955e-04 - val_accuracy: 1.0000\n",
      "Epoch 89/100\n",
      "28/28 [==============================] - 33s 1s/step - loss: 5.4031e-05 - accuracy: 1.0000 - val_loss: 3.8693e-04 - val_accuracy: 1.0000\n",
      "Epoch 90/100\n",
      "28/28 [==============================] - 33s 1s/step - loss: 6.1230e-05 - accuracy: 1.0000 - val_loss: 5.2687e-04 - val_accuracy: 1.0000\n",
      "Epoch 91/100\n",
      "28/28 [==============================] - 32s 1s/step - loss: 5.1095e-05 - accuracy: 1.0000 - val_loss: 4.1237e-04 - val_accuracy: 1.0000\n",
      "Epoch 92/100\n",
      "28/28 [==============================] - 33s 1s/step - loss: 5.4580e-05 - accuracy: 1.0000 - val_loss: 3.5385e-04 - val_accuracy: 1.0000\n",
      "Epoch 93/100\n",
      "28/28 [==============================] - 32s 1s/step - loss: 8.0041e-05 - accuracy: 1.0000 - val_loss: 2.7928e-04 - val_accuracy: 1.0000\n",
      "Epoch 94/100\n",
      "28/28 [==============================] - 34s 1s/step - loss: 1.1271e-04 - accuracy: 1.0000 - val_loss: 2.6295e-04 - val_accuracy: 1.0000\n",
      "Epoch 95/100\n",
      "28/28 [==============================] - 32s 1s/step - loss: 6.0006e-05 - accuracy: 1.0000 - val_loss: 2.8926e-04 - val_accuracy: 1.0000\n",
      "Epoch 96/100\n",
      "28/28 [==============================] - 33s 1s/step - loss: 6.2163e-05 - accuracy: 1.0000 - val_loss: 2.5203e-04 - val_accuracy: 1.0000\n",
      "Epoch 97/100\n",
      "28/28 [==============================] - 34s 1s/step - loss: 5.4065e-05 - accuracy: 1.0000 - val_loss: 1.9534e-04 - val_accuracy: 1.0000\n",
      "Epoch 98/100\n",
      "28/28 [==============================] - 32s 1s/step - loss: 5.3881e-05 - accuracy: 1.0000 - val_loss: 1.6584e-04 - val_accuracy: 1.0000\n",
      "Epoch 99/100\n",
      "28/28 [==============================] - 34s 1s/step - loss: 5.4218e-05 - accuracy: 1.0000 - val_loss: 1.9635e-04 - val_accuracy: 1.0000\n",
      "Epoch 100/100\n",
      "28/28 [==============================] - 32s 1s/step - loss: 5.0058e-05 - accuracy: 1.0000 - val_loss: 1.7687e-04 - val_accuracy: 1.0000\n"
     ]
    }
   ],
   "source": [
    "gen = model.fit_generator(aug.flow(x_train, y_train, batch_size = batch_size),validation_data = (x_test, y_test),\n",
    "                          steps_per_epoch = len(x_train) // batch_size,\n",
    "                         epochs = epochs, verbose = 1)"
   ]
  },
  {
   "cell_type": "code",
   "execution_count": 61,
   "id": "6c7b2b7d",
   "metadata": {},
   "outputs": [],
   "source": [
    "import warnings\n",
    "warnings.filterwarnings('ignore')"
   ]
  },
  {
   "cell_type": "code",
   "execution_count": 65,
   "id": "c40e9cfe",
   "metadata": {
    "scrolled": true
   },
   "outputs": [
    {
     "name": "stderr",
     "output_type": "stream",
     "text": [
      "WARNING:absl:Found untraced functions such as _jit_compiled_convolution_op, _jit_compiled_convolution_op, _jit_compiled_convolution_op, _jit_compiled_convolution_op, _jit_compiled_convolution_op while saving (showing 5 of 5). These functions will not be directly callable after loading.\n"
     ]
    },
    {
     "name": "stdout",
     "output_type": "stream",
     "text": [
      "INFO:tensorflow:Assets written to: C:\\Users\\schan\\Downloads\\CNN Gender Detect\\gender_detection.model\\assets\n"
     ]
    },
    {
     "name": "stderr",
     "output_type": "stream",
     "text": [
      "INFO:tensorflow:Assets written to: C:\\Users\\schan\\Downloads\\CNN Gender Detect\\gender_detection.model\\assets\n"
     ]
    }
   ],
   "source": [
    "model.save(r'C:\\Users\\schan\\Downloads\\CNN Gender Detect\\gender_detection.model')"
   ]
  },
  {
   "cell_type": "code",
   "execution_count": 64,
   "id": "6481fe99",
   "metadata": {},
   "outputs": [
    {
     "name": "stderr",
     "output_type": "stream",
     "text": [
      "WARNING:absl:Found untraced functions such as _jit_compiled_convolution_op, _jit_compiled_convolution_op, _jit_compiled_convolution_op, _jit_compiled_convolution_op, _jit_compiled_convolution_op while saving (showing 5 of 5). These functions will not be directly callable after loading.\n"
     ]
    },
    {
     "name": "stdout",
     "output_type": "stream",
     "text": [
      "INFO:tensorflow:Assets written to: gender_detection.model\\assets\n"
     ]
    },
    {
     "name": "stderr",
     "output_type": "stream",
     "text": [
      "INFO:tensorflow:Assets written to: gender_detection.model\\assets\n"
     ]
    }
   ],
   "source": [
    "model.save('gender_detection.model')"
   ]
  },
  {
   "cell_type": "code",
   "execution_count": 56,
   "id": "8e901e4c",
   "metadata": {},
   "outputs": [
    {
     "data": {
      "image/png": "[encoded data removed]",
      "text/plain": [
       "<Figure size 640x480 with 1 Axes>"
      ]
     },
     "metadata": {},
     "output_type": "display_data"
    }
   ],
   "source": [
    "# plot training/validation loss/accuracy\n",
    "plt.style.use(\"ggplot\")\n",
    "plt.figure()\n",
    "N = epochs\n",
    "plt.plot(np.arange(0,N), gen.history[\"loss\"], label=\"train_loss\")\n",
    "plt.plot(np.arange(0,N), gen.history[\"val_loss\"], label=\"val_loss\")\n",
    "plt.plot(np.arange(0,N), gen.history[\"accuracy\"], label=\"train_acc\")\n",
    "plt.plot(np.arange(0,N), gen.history[\"val_accuracy\"], label=\"val_acc\")\n",
    "\n",
    "plt.title(\"Training Loss and Accuracy\")\n",
    "plt.xlabel(\"Epoch #\")\n",
    "plt.ylabel(\"Loss/Accuracy\")\n",
    "plt.legend(loc=\"upper right\")\n",
    "\n",
    "# save plot to disk\n",
    "plt.savefig('plot.png')"
   ]
  },
  {
   "cell_type": "code",
   "execution_count": null,
   "id": "7675b03a",
   "metadata": {},
   "outputs": [],
   "source": []
  }
 ],
 "metadata": {
  "kernelspec": {
   "display_name": "Python 3 (ipykernel)",
   "language": "python",
   "name": "python3"
  },
  "language_info": {
   "codemirror_mode": {
    "name": "ipython",
    "version": 3
   },
   "file_extension": ".py",
   "mimetype": "text/x-python",
   "name": "python",
   "nbconvert_exporter": "python",
   "pygments_lexer": "ipython3",
   "version": "3.9.13"
  }
 },
 "nbformat": 4,
 "nbformat_minor": 5
}
